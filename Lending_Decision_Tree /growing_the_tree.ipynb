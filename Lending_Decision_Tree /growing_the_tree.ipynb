{
 "cells": [
  {
   "cell_type": "markdown",
   "metadata": {},
   "source": [
    "## Decision Tree - DSP 4.5.2"
   ]
  },
  {
   "cell_type": "markdown",
   "metadata": {},
   "source": [
    "Suppose we pick a credit score and income near the middle of the scatterplot, such as credit score = 700 and income = $72,000. \n",
    "\n",
    "Look at the rules below, expressed in terms of default, and determine how they would classify:\n",
    "\n",
    "If 681 < credit score < 768 and income < $56,500 then = 1 (default)\n",
    "\n",
    "If credit score < 681 and income < $84,500 then = 1 (default)\n",
    "\n",
    "If 704.5 < credit score < 712 and income > $56,000 then = 1 (default)\n",
    "\n",
    "If the borrower’s features do not satisfy any of these conditions then classify as = 0 (repay)\n",
    "\n",
    "Select from the following answer choices."
   ]
  },
  {
   "cell_type": "code",
   "execution_count": 9,
   "metadata": {},
   "outputs": [],
   "source": [
    "def full_trees(credit, income):\n",
    "    if credit > 681 and credit < 768 and income < 56500:\n",
    "        return \"default\"\n",
    "    elif credit < 681 and income < 84500:\n",
    "        return \"default\"\n",
    "    elif credit > 704.5 and credit < 712 and income > 56000:\n",
    "        return \"default\"\n",
    "    else:\n",
    "        return \"repay\""
   ]
  },
  {
   "cell_type": "code",
   "execution_count": 10,
   "metadata": {},
   "outputs": [
    {
     "data": {
      "text/plain": [
       "'repay'"
      ]
     },
     "execution_count": 10,
     "metadata": {},
     "output_type": "execute_result"
    }
   ],
   "source": [
    "full_trees(700, 72000)"
   ]
  },
  {
   "cell_type": "markdown",
   "metadata": {},
   "source": [
    "#### However, when the credit score is higher, the decision becomes \"default\". Do we have an overfitting problem here?"
   ]
  },
  {
   "cell_type": "code",
   "execution_count": 14,
   "metadata": {},
   "outputs": [
    {
     "data": {
      "text/plain": [
       "'default'"
      ]
     },
     "execution_count": 14,
     "metadata": {},
     "output_type": "execute_result"
    }
   ],
   "source": [
    "full_trees(705, 72000) "
   ]
  },
  {
   "cell_type": "markdown",
   "metadata": {},
   "source": [
    "#### Let's try change the depth."
   ]
  },
  {
   "cell_type": "code",
   "execution_count": 11,
   "metadata": {},
   "outputs": [],
   "source": [
    "def pruned_trees(credit, income):\n",
    "    if credit > 681 and credit < 768 and income < 56500:\n",
    "        return \"default\"\n",
    "    elif credit < 681 and income < 84500:\n",
    "        return \"default\"\n",
    "    else:\n",
    "        return \"repay\""
   ]
  },
  {
   "cell_type": "code",
   "execution_count": 15,
   "metadata": {},
   "outputs": [
    {
     "data": {
      "text/plain": [
       "'repay'"
      ]
     },
     "execution_count": 15,
     "metadata": {},
     "output_type": "execute_result"
    }
   ],
   "source": [
    "pruned_trees(705, 72000)"
   ]
  },
  {
   "cell_type": "markdown",
   "metadata": {},
   "source": [
    "#### To compare both models, let's try fitting with some new data."
   ]
  },
  {
   "cell_type": "code",
   "execution_count": 16,
   "metadata": {},
   "outputs": [],
   "source": [
    "import pandas as pd"
   ]
  },
  {
   "cell_type": "code",
   "execution_count": 40,
   "metadata": {},
   "outputs": [],
   "source": [
    "d = {'observation':[1,2,3,4,5], 'income':[60000,67000,56000,61000,58000],'credit':[680,710,770,702,715]}\n",
    "df = pd.DataFrame(data=d)"
   ]
  },
  {
   "cell_type": "code",
   "execution_count": 42,
   "metadata": {},
   "outputs": [],
   "source": [
    "full_trees_prediction = []\n",
    "for i in range(5):\n",
    "    full_trees_prediction.append(full_trees(df.loc[i][2],df.loc[i][1]))\n",
    "\n",
    "pruned_trees_prediction = []\n",
    "for i in range(5):\n",
    "    pruned_trees_prediction.append(pruned_trees(df.loc[i][2],df.loc[i][1]))"
   ]
  },
  {
   "cell_type": "code",
   "execution_count": 44,
   "metadata": {},
   "outputs": [],
   "source": [
    "df['full_trees_prediction'] = full_trees_prediction\n",
    "\n",
    "df['pruned_trees_prediction'] = pruned_trees_prediction"
   ]
  },
  {
   "cell_type": "code",
   "execution_count": 47,
   "metadata": {},
   "outputs": [],
   "source": [
    "df['actual'] = ['repay','repay','default','repay','repay']"
   ]
  },
  {
   "cell_type": "code",
   "execution_count": 48,
   "metadata": {},
   "outputs": [
    {
     "data": {
      "text/html": [
       "<div>\n",
       "<style scoped>\n",
       "    .dataframe tbody tr th:only-of-type {\n",
       "        vertical-align: middle;\n",
       "    }\n",
       "\n",
       "    .dataframe tbody tr th {\n",
       "        vertical-align: top;\n",
       "    }\n",
       "\n",
       "    .dataframe thead th {\n",
       "        text-align: right;\n",
       "    }\n",
       "</style>\n",
       "<table border=\"1\" class=\"dataframe\">\n",
       "  <thead>\n",
       "    <tr style=\"text-align: right;\">\n",
       "      <th></th>\n",
       "      <th>observation</th>\n",
       "      <th>income</th>\n",
       "      <th>credit</th>\n",
       "      <th>full_trees_prediction</th>\n",
       "      <th>pruned_trees_prediction</th>\n",
       "      <th>actual</th>\n",
       "    </tr>\n",
       "  </thead>\n",
       "  <tbody>\n",
       "    <tr>\n",
       "      <th>0</th>\n",
       "      <td>1</td>\n",
       "      <td>60000</td>\n",
       "      <td>680</td>\n",
       "      <td>default</td>\n",
       "      <td>default</td>\n",
       "      <td>repay</td>\n",
       "    </tr>\n",
       "    <tr>\n",
       "      <th>1</th>\n",
       "      <td>2</td>\n",
       "      <td>67000</td>\n",
       "      <td>710</td>\n",
       "      <td>default</td>\n",
       "      <td>repay</td>\n",
       "      <td>repay</td>\n",
       "    </tr>\n",
       "    <tr>\n",
       "      <th>2</th>\n",
       "      <td>3</td>\n",
       "      <td>56000</td>\n",
       "      <td>770</td>\n",
       "      <td>repay</td>\n",
       "      <td>repay</td>\n",
       "      <td>default</td>\n",
       "    </tr>\n",
       "    <tr>\n",
       "      <th>3</th>\n",
       "      <td>4</td>\n",
       "      <td>61000</td>\n",
       "      <td>702</td>\n",
       "      <td>repay</td>\n",
       "      <td>repay</td>\n",
       "      <td>repay</td>\n",
       "    </tr>\n",
       "    <tr>\n",
       "      <th>4</th>\n",
       "      <td>5</td>\n",
       "      <td>58000</td>\n",
       "      <td>715</td>\n",
       "      <td>repay</td>\n",
       "      <td>repay</td>\n",
       "      <td>repay</td>\n",
       "    </tr>\n",
       "  </tbody>\n",
       "</table>\n",
       "</div>"
      ],
      "text/plain": [
       "   observation  income  credit full_trees_prediction pruned_trees_prediction  \\\n",
       "0            1   60000     680               default                 default   \n",
       "1            2   67000     710               default                   repay   \n",
       "2            3   56000     770                 repay                   repay   \n",
       "3            4   61000     702                 repay                   repay   \n",
       "4            5   58000     715                 repay                   repay   \n",
       "\n",
       "    actual  \n",
       "0    repay  \n",
       "1    repay  \n",
       "2  default  \n",
       "3    repay  \n",
       "4    repay  "
      ]
     },
     "execution_count": 48,
     "metadata": {},
     "output_type": "execute_result"
    }
   ],
   "source": [
    "df"
   ]
  },
  {
   "cell_type": "markdown",
   "metadata": {},
   "source": [
    "#### Pruned Tree is better\n",
    "Percent Correct Classification (PCC) - full_trees_prediction: 2/5, pruned_trees_prediction: 3/5"
   ]
  },
  {
   "cell_type": "code",
   "execution_count": null,
   "metadata": {},
   "outputs": [],
   "source": []
  }
 ],
 "metadata": {
  "kernelspec": {
   "display_name": "Python [conda env:metis] *",
   "language": "python",
   "name": "conda-env-metis-py"
  },
  "language_info": {
   "codemirror_mode": {
    "name": "ipython",
    "version": 3
   },
   "file_extension": ".py",
   "mimetype": "text/x-python",
   "name": "python",
   "nbconvert_exporter": "python",
   "pygments_lexer": "ipython3",
   "version": "3.8.5"
  }
 },
 "nbformat": 4,
 "nbformat_minor": 4
}
