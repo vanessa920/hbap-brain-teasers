{
 "cells": [
  {
   "cell_type": "code",
   "execution_count": 40,
   "metadata": {},
   "outputs": [
    {
     "data": {
      "text/plain": [
       "1.3363461010158062"
      ]
     },
     "execution_count": 40,
     "metadata": {},
     "output_type": "execute_result"
    }
   ],
   "source": [
    "# If I have a stock value $100, but it goes up 50% on one day and drops down 50% on another day back to back. \n",
    "# What's the estimated value if I hold this stock for a month? \n",
    "\n",
    "def cal_value(a, days):\n",
    "    result = []\n",
    "    if a > 1:\n",
    "        for i in range(0,int(days/2)):        \n",
    "            b = a*(1+0.5)\n",
    "            c = b*(1-0.5)\n",
    "            a = c\n",
    "            result.append(a)\n",
    "    return result[-1]\n",
    "    \n",
    "\n",
    "cal_value(100,30) #The value actually decrease quite a lot"
   ]
  },
  {
   "cell_type": "code",
   "execution_count": 41,
   "metadata": {},
   "outputs": [
    {
     "data": {
      "text/plain": [
       "0.017858209017001473"
      ]
     },
     "execution_count": 41,
     "metadata": {},
     "output_type": "execute_result"
    }
   ],
   "source": [
    "cal_value(100,60) #60-day value would be close to 0"
   ]
  },
  {
   "cell_type": "code",
   "execution_count": 79,
   "metadata": {},
   "outputs": [],
   "source": [
    "# A better way to optimize the function\n",
    "\n",
    "def cal_value(a, days): \n",
    "    result = []\n",
    "    if a > 1:\n",
    "        for i in range(0,days):        \n",
    "            b = a*(1+0.5)\n",
    "            result.append(b)\n",
    "            c = b*(1-0.5)\n",
    "            a = c\n",
    "            result.append(a)\n",
    "    return result[days+1]"
   ]
  },
  {
   "cell_type": "code",
   "execution_count": 88,
   "metadata": {},
   "outputs": [],
   "source": [
    "# Write a function to show the daily value in a list\n",
    "\n",
    "def list_value(a, days):\n",
    "    result = []\n",
    "    if a > 1:\n",
    "        for i in range(0,days):        \n",
    "            b = a*(1+0.5)\n",
    "            result.append(b)\n",
    "            c = b*(1-0.5)\n",
    "            a = c\n",
    "            result.append(a)\n",
    "    return result[:days]"
   ]
  },
  {
   "cell_type": "code",
   "execution_count": 89,
   "metadata": {},
   "outputs": [
    {
     "data": {
      "text/plain": [
       "[<matplotlib.lines.Line2D at 0x7f8bc8925d60>]"
      ]
     },
     "execution_count": 89,
     "metadata": {},
     "output_type": "execute_result"
    },
    {
     "data": {
      "image/png": "[encoded data removed]",
      "text/plain": [
       "<Figure size 432x288 with 1 Axes>"
      ]
     },
     "metadata": {
      "needs_background": "light"
     },
     "output_type": "display_data"
    }
   ],
   "source": [
    "plt.plot(range(30), list_value(100, 30)); #Plot to show the decreasing trand"
   ]
  },
  {
   "cell_type": "markdown",
   "metadata": {},
   "source": [
    "## Put it all together to plot the chart"
   ]
  },
  {
   "cell_type": "code",
   "execution_count": 118,
   "metadata": {},
   "outputs": [
    {
     "data": {
      "image/png": "[encoded data removed]",
      "text/plain": [
       "<Figure size 432x288 with 1 Axes>"
      ]
     },
     "metadata": {
      "needs_background": "light"
     },
     "output_type": "display_data"
    }
   ],
   "source": [
    "import matplotlib.pyplot as plt\n",
    "\n",
    "def draw_value(a, days):\n",
    "    result = []\n",
    "    if a > 1:\n",
    "        result.append(a)\n",
    "        for i in range(0,days):        \n",
    "            b = a*(1+0.5)\n",
    "            result.append(b)\n",
    "            c = b*(1-0.5)\n",
    "            a = c\n",
    "            result.append(a)\n",
    "    final_list = result[:days]\n",
    "    plt.plot(range(1,days+1),final_list);\n",
    "\n",
    "draw_value(100, 30)"
   ]
  },
  {
   "cell_type": "code",
   "execution_count": null,
   "metadata": {},
   "outputs": [],
   "source": []
  }
 ],
 "metadata": {
  "kernelspec": {
   "display_name": "Python [conda env:metis] *",
   "language": "python",
   "name": "conda-env-metis-py"
  },
  "language_info": {
   "codemirror_mode": {
    "name": "ipython",
    "version": 3
   },
   "file_extension": ".py",
   "mimetype": "text/x-python",
   "name": "python",
   "nbconvert_exporter": "python",
   "pygments_lexer": "ipython3",
   "version": "3.8.5"
  }
 },
 "nbformat": 4,
 "nbformat_minor": 4
}
